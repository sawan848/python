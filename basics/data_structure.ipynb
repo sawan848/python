{
 "cells": [
  {
   "cell_type": "code",
   "execution_count": 1,
   "metadata": {},
   "outputs": [
    {
     "output_type": "stream",
     "name": "stdout",
     "text": "['Jhon', 'Bob', 'Mosh', 'Sarah']\n"
    }
   ],
   "source": [
    "#lists\n",
    "names=['Jhon','Bob','Mosh','Sarah']\n",
    "print(names)"
   ]
  },
  {
   "cell_type": "code",
   "execution_count": 3,
   "metadata": {},
   "outputs": [
    {
     "output_type": "stream",
     "name": "stdout",
     "text": "Jhon\nMosh\n"
    }
   ],
   "source": [
    "print(names[0])\n",
    "print(names[2])"
   ]
  },
  {
   "cell_type": "code",
   "execution_count": 5,
   "metadata": {},
   "outputs": [
    {
     "output_type": "stream",
     "name": "stdout",
     "text": "Sarah\nMosh\n"
    }
   ],
   "source": [
    "print(names[-1])\n",
    "print(names[-2])"
   ]
  },
  {
   "cell_type": "code",
   "execution_count": 7,
   "metadata": {},
   "outputs": [
    {
     "output_type": "stream",
     "name": "stdout",
     "text": "['Mosh', 'Sarah']\n['Bob', 'Mosh', 'Sarah']\n"
    }
   ],
   "source": [
    "print(names[2:])\n",
    "print(names[1:])"
   ]
  },
  {
   "cell_type": "code",
   "execution_count": 9,
   "metadata": {},
   "outputs": [
    {
     "output_type": "stream",
     "name": "stdout",
     "text": "['Mosh', 'Sarah']\n['Bob', 'Mosh']\n"
    }
   ],
   "source": [
    "print(names[2:4])\n",
    "print(names[1:3])"
   ]
  },
  {
   "cell_type": "code",
   "execution_count": 12,
   "metadata": {},
   "outputs": [
    {
     "output_type": "stream",
     "name": "stdout",
     "text": "['Bob', 'Mosh', 'Sarah']\n['Jhon', 'Bob', 'Mosh', 'Sarah']\n"
    }
   ],
   "source": [
    "print(names[1:])\n",
    "print(names)"
   ]
  },
  {
   "cell_type": "code",
   "execution_count": 13,
   "metadata": {},
   "outputs": [
    {
     "output_type": "stream",
     "name": "stdout",
     "text": "['jack', 'Bob', 'Mosh', 'Sarah']\n"
    }
   ],
   "source": [
    "names[0]='jack'\n",
    "print(names)"
   ]
  },
  {
   "cell_type": "code",
   "execution_count": 2,
   "metadata": {},
   "outputs": [
    {
     "output_type": "execute_result",
     "data": {
      "text/plain": "dict_items([('a', 10), ('b', 1), ('c', 22)])"
     },
     "metadata": {},
     "execution_count": 2
    }
   ],
   "source": [
    "d={'a':10,'b':1,'c':22}\n",
    "d.items()"
   ]
  },
  {
   "cell_type": "code",
   "execution_count": 3,
   "metadata": {},
   "outputs": [
    {
     "output_type": "execute_result",
     "data": {
      "text/plain": "[('a', 10), ('b', 1), ('c', 22)]"
     },
     "metadata": {},
     "execution_count": 3
    }
   ],
   "source": [
    "sorted(d.items())"
   ]
  },
  {
   "cell_type": "code",
   "execution_count": 4,
   "metadata": {},
   "outputs": [
    {
     "output_type": "stream",
     "name": "stdout",
     "text": "a 10\nb 1\nc 22\n"
    }
   ],
   "source": [
    "for k,v in sorted(d.items()):\n",
    "    print(k,v)"
   ]
  },
  {
   "cell_type": "code",
   "execution_count": 9,
   "metadata": {},
   "outputs": [
    {
     "output_type": "stream",
     "name": "stdout",
     "text": "[(10, 'a'), (1, 'b'), (22, 'c')]\n"
    }
   ],
   "source": [
    "c={'a':10,'b':1,'c':22}\n",
    "temp=list()\n",
    "for k,v in c.items():\n",
    "    temp.append((v,k))\n",
    "print(temp)"
   ]
  },
  {
   "cell_type": "code",
   "execution_count": 10,
   "metadata": {},
   "outputs": [
    {
     "output_type": "stream",
     "name": "stdout",
     "text": "[(22, 'c'), (10, 'a'), (1, 'b')]\n"
    }
   ],
   "source": [
    "temp=sorted(temp,reverse=True)\n",
    "print(temp)"
   ]
  },
  {
   "cell_type": "code",
   "execution_count": 13,
   "metadata": {},
   "outputs": [
    {
     "output_type": "stream",
     "name": "stdout",
     "text": "the 3\nis 3\nand 3\nsun 2\nyonder 1\nwith 1\nwindow 1\nwhat 1\nthrough 1\nsoft 1\n"
    }
   ],
   "source": [
    "fhand=open('romeo.txt')\n",
    "counts=dict()\n",
    "for line in fhand:\n",
    "    words=line.split()\n",
    "    for word in words:\n",
    "        counts[word]=counts.get(word,0)+1\n",
    "\n",
    "lst=list()\n",
    "for key,val in counts.items():\n",
    "    newtup=(val,key)\n",
    "    lst.append(newtup)\n",
    "\n",
    "lst=sorted(lst,reverse=True)\n",
    "for val,key in lst[:10]:\n",
    "    print(key,val)"
   ]
  },
  {
   "cell_type": "code",
   "execution_count": 14,
   "metadata": {},
   "outputs": [
    {
     "output_type": "stream",
     "name": "stdout",
     "text": "[(1, 'b'), (10, 'a'), (22, 'c')]\n"
    }
   ],
   "source": [
    "c={'a':10,'b':1,'c':22}\n",
    "print(sorted([(v,k) for k,v in c.items()]))\n"
   ]
  },
  {
   "cell_type": "code",
   "execution_count": 16,
   "metadata": {},
   "outputs": [
    {
     "output_type": "stream",
     "name": "stdout",
     "text": "10\n"
    }
   ],
   "source": [
    "#write a program to find the largest number in the list\n",
    "\n",
    "numbers=[3,6,2,8,4,10]\n",
    "max=numbers[0]\n",
    "\n",
    "for number in numbers:\n",
    "    if number > max:\n",
    "        max=number\n",
    "print(max)"
   ]
  },
  {
   "cell_type": "code",
   "execution_count": 19,
   "metadata": {},
   "outputs": [
    {
     "output_type": "stream",
     "name": "stdout",
     "text": "2\n9\n"
    }
   ],
   "source": [
    "#2d list in python\n",
    "\"\"\"[\n",
    "    1 2 3\n",
    "    4 5 6\n",
    "    7 8 9\n",
    "]\n",
    "3x3d list\n",
    "\"\"\"\n",
    "\n",
    "matrix=[\n",
    "    [1,2,3],#->0\n",
    "    [4,5,6],#->1\n",
    "    [7,8,9] #->2\n",
    "]\n",
    "print(matrix[0][1])\n",
    "print(matrix[2][2])\n"
   ]
  },
  {
   "cell_type": "code",
   "execution_count": 20,
   "metadata": {},
   "outputs": [
    {
     "output_type": "stream",
     "name": "stdout",
     "text": "20\n"
    }
   ],
   "source": [
    "matrix[0][1]=20\n",
    "print(matrix[0][1])"
   ]
  },
  {
   "cell_type": "code",
   "execution_count": 21,
   "metadata": {},
   "outputs": [
    {
     "output_type": "stream",
     "name": "stdout",
     "text": "1\n20\n3\n4\n5\n6\n7\n8\n9\n"
    }
   ],
   "source": [
    "for row in matrix:\n",
    "    for item in row:\n",
    "        print(item)"
   ]
  },
  {
   "cell_type": "code",
   "execution_count": 22,
   "metadata": {},
   "outputs": [
    {
     "output_type": "stream",
     "name": "stdout",
     "text": "[5, 2, 1, 7, 4, 20]\n"
    }
   ],
   "source": [
    "#list method=>operation in list\n",
    "numbers=[5,2,1,7,4]\n",
    "numbers.append(20)\n",
    "print(numbers)\n",
    "\n"
   ]
  },
  {
   "cell_type": "code",
   "execution_count": 27,
   "metadata": {},
   "outputs": [
    {
     "output_type": "stream",
     "name": "stdout",
     "text": "[5, 2, 32, 32, 32, 32, 32, 7, 4, 20]\n[5, 2, 32, 32, 32, 32, 32, 7, 4, 20]\n[5, 2, 32, 32, 32, 32, 32, 7, 20]\n"
    }
   ],
   "source": [
    "numbers.insert(2,32)\n",
    "print(numbers)\n",
    "numbers.remove(4)\n",
    "print(numbers)"
   ]
  },
  {
   "cell_type": "code",
   "execution_count": 28,
   "metadata": {},
   "outputs": [
    {
     "output_type": "stream",
     "name": "stdout",
     "text": "[5, 2, 32, 32, 32, 32, 32, 7]\n"
    }
   ],
   "source": [
    "numbers.pop()\n",
    "print(numbers)"
   ]
  },
  {
   "cell_type": "code",
   "execution_count": 31,
   "metadata": {},
   "outputs": [
    {
     "output_type": "stream",
     "name": "stdout",
     "text": "2\n"
    }
   ],
   "source": [
    "print(numbers.index(32))"
   ]
  },
  {
   "cell_type": "code",
   "execution_count": 32,
   "metadata": {},
   "outputs": [
    {
     "output_type": "stream",
     "name": "stdout",
     "text": "False\n"
    }
   ],
   "source": [
    "print(40 in numbers)"
   ]
  },
  {
   "cell_type": "code",
   "execution_count": 33,
   "metadata": {},
   "outputs": [
    {
     "output_type": "stream",
     "name": "stdout",
     "text": "5\n"
    }
   ],
   "source": [
    "print(numbers.count(32))"
   ]
  },
  {
   "cell_type": "code",
   "execution_count": 35,
   "metadata": {},
   "outputs": [
    {
     "output_type": "stream",
     "name": "stdout",
     "text": "[2, 5, 7, 32, 32, 32, 32, 32]\n"
    }
   ],
   "source": [
    "numbers.sort()\n",
    "print(numbers)"
   ]
  },
  {
   "cell_type": "code",
   "execution_count": 36,
   "metadata": {},
   "outputs": [
    {
     "output_type": "stream",
     "name": "stdout",
     "text": "[32, 32, 32, 32, 32, 7, 5, 2]\n"
    }
   ],
   "source": [
    "numbers.reverse()\n",
    "print(numbers)"
   ]
  },
  {
   "cell_type": "code",
   "execution_count": 37,
   "metadata": {},
   "outputs": [
    {
     "output_type": "stream",
     "name": "stdout",
     "text": "[32, 32, 32, 32, 32, 7, 5, 2]\n"
    }
   ],
   "source": [
    "numbers2=numbers.copy()\n",
    "print(numbers2)"
   ]
  },
  {
   "cell_type": "code",
   "execution_count": 39,
   "metadata": {},
   "outputs": [
    {
     "output_type": "stream",
     "name": "stdout",
     "text": "[2, 4, 6, 3]\n"
    }
   ],
   "source": [
    "#write a program to remove the dublicates in the list\n",
    "number=[2,2,4,6,3,4]\n",
    "unique=[]\n",
    "\n",
    "for number in number:\n",
    "    if number not in unique:\n",
    "        unique.append(number)\n",
    "    \n",
    "print(unique)"
   ]
  },
  {
   "cell_type": "code",
   "execution_count": 41,
   "metadata": {},
   "outputs": [
    {
     "output_type": "stream",
     "name": "stdout",
     "text": "1\n"
    }
   ],
   "source": [
    "#2nd data structure in python is tuple\n",
    "#tuples are inmutable that means we cannot change anything\n",
    "#magic method in pyhton tuples(important)\n",
    "#tuples are used parenthesis ()\n",
    "numbers=(1,2,3)\n",
    "#numbers[0]=10\n",
    "print(numbers[0])\n"
   ]
  },
  {
   "cell_type": "code",
   "execution_count": 43,
   "metadata": {},
   "outputs": [
    {
     "output_type": "stream",
     "name": "stdout",
     "text": "6\n"
    }
   ],
   "source": [
    "#3rd=>unpacking\n",
    "coordinates=(1,2,3)\n",
    "x=coordinates[0]\n",
    "y=coordinates[1]\n",
    "z=coordinates[2]\n",
    "a=x*y*z\n",
    "print(a) "
   ]
  },
  {
   "cell_type": "code",
   "execution_count": 44,
   "metadata": {},
   "outputs": [
    {
     "output_type": "stream",
     "name": "stdout",
     "text": "2\n"
    }
   ],
   "source": [
    "x,y,z=coordinates\n",
    "print(y)"
   ]
  },
  {
   "cell_type": "code",
   "execution_count": 53,
   "metadata": {},
   "outputs": [
    {
     "output_type": "stream",
     "name": "stdout",
     "text": "John Smith\n"
    },
    {
     "output_type": "error",
     "ename": "KeyError",
     "evalue": "'birthdate'",
     "traceback": [
      "\u001b[1;31m---------------------------------------------------------------------------\u001b[0m",
      "\u001b[1;31mKeyError\u001b[0m                                  Traceback (most recent call last)",
      "\u001b[1;32m<ipython-input-53-aa634948e6c5>\u001b[0m in \u001b[0;36m<module>\u001b[1;34m\u001b[0m\n\u001b[0;32m     12\u001b[0m }\n\u001b[0;32m     13\u001b[0m \u001b[0mprint\u001b[0m\u001b[1;33m(\u001b[0m\u001b[0mcustomer\u001b[0m\u001b[1;33m[\u001b[0m\u001b[1;34m\"name\"\u001b[0m\u001b[1;33m]\u001b[0m\u001b[1;33m)\u001b[0m\u001b[1;33m\u001b[0m\u001b[1;33m\u001b[0m\u001b[0m\n\u001b[1;32m---> 14\u001b[1;33m \u001b[0mprint\u001b[0m\u001b[1;33m(\u001b[0m\u001b[0mcustomer\u001b[0m\u001b[1;33m[\u001b[0m\u001b[1;34m\"birthdate\"\u001b[0m\u001b[1;33m]\u001b[0m\u001b[1;33m)\u001b[0m\u001b[1;33m\u001b[0m\u001b[1;33m\u001b[0m\u001b[0m\n\u001b[0m",
      "\u001b[1;31mKeyError\u001b[0m: 'birthdate'"
     ]
    }
   ],
   "source": [
    "#4th dictionary in python data structre\n",
    "\n",
    "\"\"\"\n",
    "Name:john Smith\n",
    "Email=jhon@gamil.com\n",
    "Phone:1234\n",
    "\"\"\"\n",
    "customer={#=>in the dict each key has a unique value\n",
    "    \"name\":\"John Smith\",\n",
    "    \"age\":30,      \n",
    "    \"is_varified\":True\n",
    "}\n",
    "print(customer[\"name\"])\n",
    "print(customer[\"birthdate\"])"
   ]
  },
  {
   "cell_type": "code",
   "execution_count": 63,
   "metadata": {},
   "outputs": [
    {
     "output_type": "stream",
     "name": "stdout",
     "text": "30\n1 may 1998\n"
    }
   ],
   "source": [
    "print(customer.get(\"age\"))\n",
    "print(customer.get(\"birthdate\",\"1 may 1998\"))"
   ]
  },
  {
   "cell_type": "code",
   "execution_count": 54,
   "metadata": {},
   "outputs": [
    {
     "output_type": "stream",
     "name": "stdout",
     "text": "steven smith\n"
    }
   ],
   "source": [
    "customer[\"name\"]=\"steven smith\"\n",
    "print(customer.get(\"name\"))"
   ]
  },
  {
   "cell_type": "code",
   "execution_count": 64,
   "metadata": {},
   "outputs": [
    {
     "output_type": "stream",
     "name": "stdout",
     "text": "{'name': 'steven smith', 'age': 30, 'is_varified': True, 'birthdate': '1 may 1998'}\n"
    }
   ],
   "source": [
    "customer[\"birthdate\"]=\"1 may 1998\"\n",
    "print(customer)"
   ]
  },
  {
   "cell_type": "code",
   "execution_count": 1,
   "metadata": {},
   "outputs": [
    {
     "output_type": "stream",
     "name": "stdout",
     "text": "One \n"
    }
   ],
   "source": [
    "phone=input('Phone')\n",
    "digits_mapping={\n",
    "    \"1\":\"One\",\n",
    "    \"2\":\"Two\",\n",
    "    \"3\":\"Three\",\n",
    "    \"4\":\"Four\"\n",
    "}\n",
    "output=\"\"\n",
    "for ch in  phone:\n",
    "    output += digits_mapping.get(ch,\"!\") + \" \"\n",
    "\n",
    "print(output)\n"
   ]
  },
  {
   "cell_type": "code",
   "execution_count": 11,
   "metadata": {
    "tags": [
     "outputPrepend",
     "outputPrepend",
     "outputPrepend",
     "outputPrepend",
     "outputPrepend",
     "outputPrepend",
     "outputPrepend"
    ]
   },
   "outputs": [
    {
     "output_type": "stream",
     "name": "stdout",
     "text": "**New**\n1\n**New**\n1\n**New**\n1\n**New**\n1\n**Existing**\n2\n**New**\n1\n**New**\n1\n**Existing**\n3\n**Existing**\n2\n**Existing**\n2\n**New**\n1\n**Existing**\n4\n**New**\n1\n**Existing**\n2\n**Existing**\n5\n**Existing**\n2\n**New**\n1\n**New**\n1\n**New**\n1\n**Existing**\n6\n**Existing**\n2\n**Existing**\n3\n**Existing**\n7\n**Existing**\n3\n{'the': 7, 'clown': 2, 'ran': 2, 'after': 1, 'car': 3, 'and': 3, 'into': 1, 'tent': 2, 'fell': 1, 'down': 1, 'on': 1}\n"
    }
   ],
   "source": [
    "fname=input('Enter the name:')\n",
    "if len(fname)<1:    fname='clown.txt'\n",
    "hand=open(fname)\n",
    "\n",
    "di=dict()\n",
    "\n",
    "for lin in hand:\n",
    "    lin=lin.rstrip()\n",
    "    #print(lin)\n",
    "    wds=lin.split()\n",
    "   # print('\\n')\n",
    "   # print(wds)\n",
    "    for w in wds:\n",
    "        if w in di:\n",
    "            di[w]=di[w]+1\n",
    "            print('**Existing**')\n",
    "        else:\n",
    "            di[w]=1\n",
    "            print('**New**')\n",
    "        print(di[w])\n",
    "\n",
    "print(di)\n"
   ]
  },
  {
   "cell_type": "code",
   "execution_count": 2,
   "metadata": {
    "tags": [
     "outputPrepend"
    ]
   },
   "outputs": [
    {
     "output_type": "stream",
     "name": "stdout",
     "text": "setting a key and value! \nsetting a key and value! \na =5\nb =6\n\n"
    }
   ],
   "source": [
    "class MyDict(dict):\n",
    "    def __setitem__(self,key,val):\n",
    "        print(\"setting a key and value! \")\n",
    "        #self[key]=val\n",
    "        dict.__setitem__(self,key,val)\n",
    "\n",
    "dd=MyDict()\n",
    "dd['a']=5\n",
    "dd['b']=6\n",
    "\n",
    "for key in dd.keys():\n",
    "    print('{0} ={1}'.format(key,dd[key]))\n",
    "\n",
    "print()"
   ]
  },
  {
   "cell_type": "code",
   "execution_count": 4,
   "metadata": {},
   "outputs": [
    {
     "output_type": "stream",
     "name": "stdout",
     "text": "['a', 'b', 'c']\na\nspan\n"
    }
   ],
   "source": [
    "class MyList(list): #inherit from list\n",
    "    def __getitem__(self, index):\n",
    "        if index == 0: raise IndexError\n",
    "        if index >0: index=index-1\n",
    "        return list.__getitem__(self,index)\n",
    "\n",
    "    def __setitem__(self, index, value):\n",
    "        if index ==0: raise IndexError\n",
    "        if index>0:index=index-1\n",
    "        list.__setitem__(self,index,value)\n",
    "\n",
    "x=MyList(['a','b','c'])\n",
    "print(x)\n",
    "x.append('spam')\n",
    "print(x[1])\n",
    "print(x[4])"
   ]
  },
  {
   "cell_type": "code",
   "execution_count": 5,
   "metadata": {},
   "outputs": [
    {
     "output_type": "stream",
     "name": "stdout",
     "text": "10\n100\n"
    }
   ],
   "source": [
    "#encapsulation\n",
    "class MyClass(object):\n",
    "    def set_val(self,val):\n",
    "        self.value=val\n",
    "\n",
    "    def get_val(self):\n",
    "        return self.value\n",
    "\n",
    "a=MyClass()\n",
    "b=MyClass()\n",
    "\n",
    "a.set_val(10)\n",
    "b.set_val(100)\n",
    "print(a.get_val())\n",
    "print(b.get_val())"
   ]
  },
  {
   "cell_type": "code",
   "execution_count": 7,
   "metadata": {},
   "outputs": [
    {
     "output_type": "stream",
     "name": "stdout",
     "text": "setting the \"var\" attribute\ngetting the \"var\" attribute\n1000\ndeleting the \"var\" attribute\ngetting the \"var\" attribute\nNone\n"
    }
   ],
   "source": [
    "class GetSet(object):\n",
    "\n",
    "    def __init__(self,value):\n",
    "        self.attrval=value\n",
    "\n",
    "    @property\n",
    "    def var(self):\n",
    "        print('getting the \"var\" attribute')\n",
    "        return self.attrval\n",
    "    @var.setter\n",
    "    def var(self,value):\n",
    "        print('setting the \"var\" attribute')\n",
    "        self.attrval=value\n",
    "    @var.deleter\n",
    "    def var(self):\n",
    "        print('deleting the \"var\" attribute')\n",
    "        self.attrval=None\n",
    "\n",
    "me=GetSet(5)\n",
    "\n",
    "me.var=1000\n",
    "print(me.var)\n",
    "del me.var\n",
    "print(me.var)"
   ]
  },
  {
   "cell_type": "code",
   "execution_count": 8,
   "metadata": {},
   "outputs": [
    {
     "output_type": "stream",
     "name": "stdout",
     "text": "<class '__main__.OldClass'>\n<class '__main__.OldClass'>\n<class '__main__.NewClass'>\n"
    }
   ],
   "source": [
    "class OldClass():\n",
    "    pass\n",
    "class NewClass(object):\n",
    "    pass\n",
    "\n",
    "oc=OldClass()\n",
    "nc=NewClass()\n",
    "print(type(oc))\n",
    "\n",
    "print(oc.__class__)\n",
    "print(type(nc))"
   ]
  },
  {
   "cell_type": "code",
   "execution_count": 70,
   "metadata": {},
   "outputs": [
    {
     "output_type": "stream",
     "name": "stdout",
     "text": "['good', 'morning', 'sunshine']\n"
    }
   ],
   "source": [
    "message=input(\">\")\n",
    "words=message.split(' ')#input is=>good morning sunshine\n",
    "print(words)"
   ]
  },
  {
   "cell_type": "code",
   "execution_count": null,
   "metadata": {},
   "outputs": [],
   "source": []
  }
 ],
 "metadata": {
  "language_info": {
   "codemirror_mode": {
    "name": "ipython",
    "version": 3
   },
   "file_extension": ".py",
   "mimetype": "text/x-python",
   "name": "python",
   "nbconvert_exporter": "python",
   "pygments_lexer": "ipython3",
   "version": "3.7.7-final"
  },
  "orig_nbformat": 2,
  "kernelspec": {
   "name": "python_defaultSpec_1598883032900",
   "display_name": "Python 3.7.7 64-bit ('tensorflow_env1': conda)"
  }
 },
 "nbformat": 4,
 "nbformat_minor": 2
}