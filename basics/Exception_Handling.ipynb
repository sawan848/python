{
 "cells": [
  {
   "cell_type": "code",
   "execution_count": 3,
   "metadata": {},
   "outputs": [
    {
     "output_type": "stream",
     "name": "stdout",
     "text": "Invalid values:\n"
    }
   ],
   "source": [
    "try:\n",
    "    age=int(input('Age:'))\n",
    "    print(age)\n",
    "except ValueError:\n",
    "    print('Invalid values:')"
   ]
  },
  {
   "cell_type": "code",
   "execution_count": 7,
   "metadata": {},
   "outputs": [
    {
     "output_type": "stream",
     "name": "stdout",
     "text": "Invalid value:\n"
    }
   ],
   "source": [
    "try:\n",
    "    age=int(input('Age:'))\n",
    "    income=20000\n",
    "    risk=income/age\n",
    "    print(age)\n",
    "except ZeroDivisionError:\n",
    "    print('Age cannot be 0')\n",
    "except ValueError:\n",
    "    print('Invalid value:')"
   ]
  },
  {
   "cell_type": "code",
   "execution_count": 2,
   "metadata": {},
   "outputs": [
    {
     "output_type": "stream",
     "name": "stdout",
     "text": "draw\n"
    }
   ],
   "source": [
    "class Point:\n",
    "    def move(self):\n",
    "        print(\"move\")\n",
    "    def draw(self):\n",
    "        print('draw')\n",
    "\n",
    "point1=Point()\n",
    "point1.draw()"
   ]
  },
  {
   "cell_type": "code",
   "execution_count": 2,
   "metadata": {},
   "outputs": [
    {
     "output_type": "stream",
     "name": "stdout",
     "text": "True\n"
    }
   ],
   "source": [
    "from pathlib import Path\n",
    "\n",
    "#absolute path c:\\program\\microsoft\n",
    "#relative path\n",
    "\n",
    "path=Path('Ecommerce')#ecommerce is the directory name\n",
    "print(path.exists())#check the folder is available or not"
   ]
  },
  {
   "cell_type": "code",
   "execution_count": 3,
   "metadata": {},
   "outputs": [
    {
     "output_type": "stream",
     "name": "stdout",
     "text": "<generator object Path.glob at 0x00000217C7F9C548>\n"
    }
   ],
   "source": [
    "path=Path()\n",
    "print(path.glob('*.py'))\n",
    "#what is the generator object in python"
   ]
  },
  {
   "cell_type": "code",
   "execution_count": 4,
   "metadata": {},
   "outputs": [
    {
     "output_type": "stream",
     "name": "stdout",
     "text": "Alphabet_Pattern.py\narithmatic_operation.py\nCar_Game.py\nconcate_number_character.py\nConvertor.py\nConvertor_main.py\nEmoji_Converter.py\nEmoji_Converter1.py\nFind_Max.py\nFind_Max_Main.py\nGuess_number.py\nif_statement.py\ninput_from_user.py\ninput_from_user1.py\nWeight_Convertor.py\n"
    }
   ],
   "source": [
    "path=Path()\n",
    "\n",
    "for file in path.glob('*.py'):\n",
    "    print(file)"
   ]
  },
  {
   "cell_type": "code",
   "execution_count": 10,
   "metadata": {},
   "outputs": [
    {
     "output_type": "stream",
     "name": "stdout",
     "text": "transaction_id\n"
    }
   ],
   "source": [
    "import openpyxl as xl\n",
    "workbook=xl.load_workbook('transactions.xlsx')\n",
    "sheet=workbook['Sheet1']\n",
    "cell=sheet['a1']\n",
    "cell=sheet.cell(1,1)\n",
    "print(cell.value)"
   ]
  },
  {
   "cell_type": "code",
   "execution_count": 11,
   "metadata": {},
   "outputs": [
    {
     "output_type": "stream",
     "name": "stdout",
     "text": "4\n"
    }
   ],
   "source": [
    "print(sheet.max_row)"
   ]
  },
  {
   "cell_type": "code",
   "execution_count": 12,
   "metadata": {},
   "outputs": [
    {
     "output_type": "stream",
     "name": "stdout",
     "text": "1\n2\n3\n4\n"
    }
   ],
   "source": [
    "for row in range(1,sheet.max_row+1):\n",
    "    print(row)"
   ]
  },
  {
   "cell_type": "code",
   "execution_count": 13,
   "metadata": {},
   "outputs": [
    {
     "output_type": "stream",
     "name": "stdout",
     "text": "5.95\n6.95\n7.95\n"
    }
   ],
   "source": [
    "for row in range(2,sheet.max_row+1):\n",
    "    cell=sheet.cell(row,3)\n",
    "    print(cell.value)"
   ]
  },
  {
   "cell_type": "code",
   "execution_count": 25,
   "metadata": {},
   "outputs": [],
   "source": [
    "from openpyxl.chart import BarChart,Reference\n",
    "for row in range(2,sheet.max_row+1):\n",
    "    cell=sheet.cell(row,3)\n",
    "    corrected_price=cell.value*0.9\n",
    "    corrected_price_cell=sheet.cell(row,4)#creating a new cell\n",
    "    corrected_price_cell.value=corrected_price\n",
    "\n",
    "#to select a range of spreadsheet(load a columns values variable)\n",
    "values=Reference(sheet,min_row=2,max_row=sheet.max_row,min_col=4,max_col=4)\n",
    "#values object have the all the values in the column D(4)\n",
    "\n",
    "# create a instance of a barchart(load a barchart)\n",
    "chart=BarChart()\n",
    "chart.add_data(values)\n",
    "sheet.add_chart(chart,'e2')\n",
    "\n",
    "workbook.save('transaction3.xlsx')\n",
    "    "
   ]
  },
  {
   "cell_type": "code",
   "execution_count": 1,
   "metadata": {},
   "outputs": [
    {
     "output_type": "stream",
     "name": "stdout",
     "text": "testing for error\nthe value for a is 1\nprogram continue...\n"
    }
   ],
   "source": [
    "mydict={'a':1,'b':2,'c':3,'d':4}\n",
    "\n",
    "key=input(\"please input a key: \")\n",
    "try:\n",
    "    print('testing for error')\n",
    "    print('the value for {0} is {1}'.format(key,mydict[key]))\n",
    "\n",
    "\n",
    "except KeyError:\n",
    "    print('trapped error')\n",
    "    print('the key '+key+\"does not exist\")\n",
    "\n",
    "print('program continue...')"
   ]
  },
  {
   "cell_type": "code",
   "execution_count": null,
   "metadata": {},
   "outputs": [],
   "source": []
  }
 ],
 "metadata": {
  "language_info": {
   "codemirror_mode": {
    "name": "ipython",
    "version": 3
   },
   "file_extension": ".py",
   "mimetype": "text/x-python",
   "name": "python",
   "nbconvert_exporter": "python",
   "pygments_lexer": "ipython3",
   "version": 3
  },
  "orig_nbformat": 2,
  "kernelspec": {
   "name": "python_defaultSpec_1598533745381",
   "display_name": "Python 3.7.7 64-bit ('tensorflow_env1': conda)"
  }
 },
 "nbformat": 4,
 "nbformat_minor": 2
}