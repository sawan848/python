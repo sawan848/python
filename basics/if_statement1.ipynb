{
 "cells": [
  {
   "cell_type": "code",
   "execution_count": 3,
   "metadata": {},
   "outputs": [
    {
     "output_type": "execute_result",
     "data": {
      "text/plain": "'\\nif it` hot\\n    it`s a hot day\\n    Drink plenty of water \\notherwise if it`s cold\\n    it`s a cold day\\n    wear warm clothes\\notherwise \\n    it`s a lovely day\\n'"
     },
     "metadata": {},
     "execution_count": 3
    }
   ],
   "source": [
    "\"\"\"\n",
    "if it` hot\n",
    "    it`s a hot day\n",
    "    Drink plenty of water \n",
    "otherwise if it`s cold\n",
    "    it`s a cold day\n",
    "    wear warm clothes\n",
    "otherwise \n",
    "    it`s a lovely day\n",
    "\"\"\""
   ]
  },
  {
   "cell_type": "code",
   "execution_count": 6,
   "metadata": {},
   "outputs": [
    {
     "output_type": "stream",
     "name": "stdout",
     "text": "it`s a cold day\nwear warm clothes\nenjoy your day\n"
    }
   ],
   "source": [
    "#is_hot=True\n",
    "is_hot =False\n",
    "\n",
    "if is_hot:\n",
    "    print(\"it`s a hot day\")\n",
    "    print(\"Drink plenty of water\")\n",
    "else:\n",
    "    print(\"it`s a cold day\")\n",
    "    print(\"wear warm clothes\")\n",
    "print(\"enjoy your day\")"
   ]
  },
  {
   "cell_type": "code",
   "execution_count": 7,
   "metadata": {},
   "outputs": [
    {
     "output_type": "stream",
     "name": "stdout",
     "text": "it`s a cold day\nwear warm clothes\nEnjoy your day\n"
    }
   ],
   "source": [
    "is_cold=True\n",
    "if is_hot:\n",
    "    print(\"it`s hot day\")\n",
    "    print(\"Drink plenty of water\")\n",
    "elif is_cold:\n",
    "    print(\"it`s a cold day\")\n",
    "    print(\"wear warm clothes\")\n",
    "else:\n",
    "    print(\"it`s a lovely day\")\n",
    "print(\"Enjoy your day\")"
   ]
  },
  {
   "cell_type": "code",
   "execution_count": 11,
   "metadata": {},
   "outputs": [
    {
     "output_type": "stream",
     "name": "stdout",
     "text": "Down payement: $100000.0\n"
    }
   ],
   "source": [
    "\"\"\"\n",
    "price of a house is $1M.\n",
    "if buyer has good credit,\n",
    "    they need to put down 10%\n",
    "otherwise\n",
    "    they need to put down 20%\n",
    "print the down payment\n",
    "\"\"\"\n",
    "price =1e6\n",
    "has_good_credit=True\n",
    "if has_good_credit:\n",
    "    down_payment=0.1*price\n",
    "else:\n",
    "    down_payment=0.2*price\n",
    "print(f\"Down payement: ${down_payment}\")"
   ]
  },
  {
   "cell_type": "code",
   "execution_count": 17,
   "metadata": {},
   "outputs": [
    {
     "output_type": "stream",
     "name": "stdout",
     "text": "Eligible for loan\n"
    }
   ],
   "source": [
    "#logical operator\n",
    "\"\"\"\n",
    "if application has high income AND good credit eligible for loan\n",
    "\"\"\"\n",
    "hash_high_income=True\n",
    "has_good_credit=True\n",
    "if hash_high_income and has_good_credit:\n",
    "    print(\"Eligible for loan\")\n",
    "\n"
   ]
  },
  {
   "cell_type": "code",
   "execution_count": 15,
   "metadata": {},
   "outputs": [
    {
     "output_type": "stream",
     "name": "stdout",
     "text": "eligible for loan\n"
    }
   ],
   "source": [
    "hash_high_income=False\n",
    "if hash_high_income or has_good_credit:\n",
    "    print('eligible for loan')"
   ]
  },
  {
   "cell_type": "code",
   "execution_count": 19,
   "metadata": {},
   "outputs": [],
   "source": [
    "\"\"\"\n",
    "if  applicant is eligible for doesn`t have a criminal record the it is eligible for loan\n",
    "\"\"\"\n",
    "has_good_credit=True\n",
    "hash_criminal_record=True\n",
    "if has_good_credit and not hash_criminal_record:\n",
    "    print(\"eligible for loan\") "
   ]
  },
  {
   "cell_type": "code",
   "execution_count": 20,
   "metadata": {},
   "outputs": [
    {
     "output_type": "stream",
     "name": "stdout",
     "text": "it`s not a hot day\n"
    }
   ],
   "source": [
    "#comparision operator \n",
    "\"\"\"\n",
    "if temperature is grater than 30\n",
    "    it`s a hot day\n",
    "otherwise if it`s less than 10\n",
    "    it`s a cold day\n",
    "otherwise \n",
    "    it`s neither hot nor cold\n",
    "\"\"\"\n",
    "temperature=30\n",
    "if temperature >30:\n",
    "    print(\"it`s hot day\")\n",
    "else:\n",
    "    print(\"it`s not a hot day\")"
   ]
  },
  {
   "cell_type": "code",
   "execution_count": 1,
   "metadata": {},
   "outputs": [
    {
     "output_type": "stream",
     "name": "stdout",
     "text": "name must  be at 3 character:\n"
    }
   ],
   "source": [
    "#question \n",
    "\"\"\"\n",
    "if name is less than 3 characters long\n",
    "    name must be at least 3 charcters\n",
    "otherwise if it`s more than 50 characters\n",
    "    name can be a maximum of 50 characters\n",
    "otherwise\n",
    "    name looks good!\n",
    "\"\"\"\n",
    "name='J'\n",
    "if len(name)<3:\n",
    "    print('name must  be at 3 character:')\n",
    "elif len(name)>50:\n",
    "    print(\"name must be a maximum length is 50 characters:\")\n",
    "else:\n",
    "    print('Name looks good!')\n"
   ]
  },
  {
   "cell_type": "code",
   "execution_count": 3,
   "metadata": {},
   "outputs": [
    {
     "output_type": "stream",
     "name": "stdout",
     "text": "1\n2\n3\n4\n5\nDone\n"
    }
   ],
   "source": [
    "i=1\n",
    "while i<=5:\n",
    "     print(i)\n",
    "     i=i+1\n",
    "\n",
    "print('Done')"
   ]
  },
  {
   "cell_type": "code",
   "execution_count": 2,
   "metadata": {},
   "outputs": [
    {
     "output_type": "stream",
     "name": "stdout",
     "text": "*\n**\n***\n****\n*****\n"
    }
   ],
   "source": [
    "i=1\n",
    "while i<=5:\n",
    "    print('*'*i)\n",
    "    i=i+1"
   ]
  },
  {
   "cell_type": "code",
   "execution_count": 4,
   "metadata": {},
   "outputs": [
    {
     "output_type": "stream",
     "name": "stdout",
     "text": "P\ny\nt\nh\no\nn\n"
    }
   ],
   "source": [
    "#using for loop\n",
    "\n",
    "for item in 'Python':\n",
    "    print(item)"
   ]
  },
  {
   "cell_type": "code",
   "execution_count": 5,
   "metadata": {},
   "outputs": [
    {
     "output_type": "stream",
     "name": "stdout",
     "text": "Mosh\nJohn\nSarah\n"
    }
   ],
   "source": [
    "for item in ['Mosh','John','Sarah']:\n",
    "    print(item)"
   ]
  },
  {
   "cell_type": "code",
   "execution_count": 10,
   "metadata": {},
   "outputs": [
    {
     "output_type": "stream",
     "name": "stdout",
     "text": "5\n6\n7\n8\n9\n**********\n5\n7\n9\n11\n13\n15\n17\n19\n"
    }
   ],
   "source": [
    "for item in range(5,10):\n",
    "    print(item)\n",
    "print('*'*10)\n",
    "for item in range(5,20,2):\n",
    "    print(item)"
   ]
  },
  {
   "cell_type": "code",
   "execution_count": 12,
   "metadata": {},
   "outputs": [
    {
     "output_type": "stream",
     "name": "stdout",
     "text": "Total :60\n"
    }
   ],
   "source": [
    "\"\"\"\n",
    "we have a list of prices=[10,20,30]\n",
    "calculate total  cost\n",
    "\"\"\"\n",
    "prices=[10,20,30,60,80,90]\n",
    "total=0\n",
    "for price in prices:\n",
    "    total += price\n",
    "print(f\"Total :{total}\")"
   ]
  },
  {
   "cell_type": "code",
   "execution_count": 16,
   "metadata": {},
   "outputs": [
    {
     "output_type": "stream",
     "name": "stdout",
     "text": "0,0\n0,1\n0,2\n0\n1,0\n1,1\n1,2\n1\n2,0\n2,1\n2,2\n2\n3,0\n3,1\n3,2\n3\n"
    }
   ],
   "source": [
    "#nasted loop\n",
    "\"\"\"\n",
    "(x,y)\n",
    "(0,0)\n",
    "(0,1)\n",
    "(0,2)\n",
    "(1,0)\n",
    "(1,1)\n",
    "(1,2)\n",
    "\"\"\"\n",
    "\n",
    "for x in range(4):\n",
    "    for y in range(3):\n",
    "        print(f'{x},{y}')\n",
    "    print(x)"
   ]
  },
  {
   "cell_type": "code",
   "execution_count": null,
   "metadata": {},
   "outputs": [],
   "source": []
  }
 ],
 "metadata": {
  "language_info": {
   "codemirror_mode": {
    "name": "ipython",
    "version": 3
   },
   "file_extension": ".py",
   "mimetype": "text/x-python",
   "name": "python",
   "nbconvert_exporter": "python",
   "pygments_lexer": "ipython3",
   "version": 3
  },
  "orig_nbformat": 2,
  "kernelspec": {
   "name": "python_defaultSpec_1596378280502",
   "display_name": "Python 3.7.7 64-bit ('tensorflow_env1': conda)"
  }
 },
 "nbformat": 4,
 "nbformat_minor": 2
}