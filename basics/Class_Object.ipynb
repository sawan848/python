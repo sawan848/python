{
 "cells": [
  {
   "cell_type": "code",
   "execution_count": 2,
   "metadata": {},
   "outputs": [
    {
     "output_type": "stream",
     "name": "stdout",
     "text": "['AggregationMethod', 'Assert', 'CriticalSection', 'DType', 'DeviceSpec', 'GradientTape', 'Graph', 'IndexedSlices', 'IndexedSlicesSpec', 'Module', 'Operation', 'OptionalSpec', 'RaggedTensor', 'RaggedTensorSpec', 'RegisterGradient', 'SparseTensor', 'SparseTensorSpec', 'Tensor', 'TensorArray', 'TensorArraySpec', 'TensorShape', 'TensorSpec', 'TypeSpec', 'UnconnectedGradients', 'Variable', 'VariableAggregation', 'VariableSynchronization', '_API_MODULE', '_LazyLoader', '__all__', '__builtins__', '__cached__', '__compiler_version__', '__cxx11_abi_flag__', '__doc__', '__file__', '__git_version__', '__loader__', '__monolithic_build__', '__name__', '__package__', '__path__', '__spec__', '__version__', '_absolute_import', '_api', '_compat', '_current_file_location', '_current_module', '_distutils', '_division', '_estimator_module', '_fi', '_inspect', '_ll', '_logging', '_main_dir', '_major_api_version', '_module_dir', '_module_util', '_names_with_underscore', '_os', '_plugin_dir', '_print_function', '_running_from_pip_package', '_s', '_site', '_site_packages_dirs', '_six', '_sys', '_tf_api_dir', '_typing', 'abs', 'acos', 'acosh', 'add', 'add_n', 'argmax', 'argmin', 'argsort', 'as_dtype', 'as_string', 'asin', 'asinh', 'assert_equal', 'assert_greater', 'assert_less', 'assert_rank', 'atan', 'atan2', 'atanh', 'audio', 'autodiff', 'autograph', 'batch_to_space', 'bfloat16', 'bitcast', 'bitwise', 'bool', 'boolean_mask', 'broadcast_dynamic_shape', 'broadcast_static_shape', 'broadcast_to', 'case', 'cast', 'clip_by_global_norm', 'clip_by_norm', 'clip_by_value', 'compat', 'compiler', 'complex', 'complex128', 'complex64', 'concat', 'cond', 'config', 'constant', 'constant_initializer', 'control_dependencies', 'convert_to_tensor', 'core', 'cos', 'cosh', 'cumsum', 'custom_gradient', 'data', 'debugging', 'device', 'distribute', 'divide', 'double', 'dtypes', 'dynamic_partition', 'dynamic_stitch', 'edit_distance', 'eig', 'eigvals', 'einsum', 'ensure_shape', 'equal', 'errors', 'estimator', 'executing_eagerly', 'exp', 'expand_dims', 'experimental', 'extract_volume_patches', 'eye', 'feature_column', 'fill', 'fingerprint', 'float16', 'float32', 'float64', 'floor', 'foldl', 'foldr', 'function', 'gather', 'gather_nd', 'get_logger', 'get_static_value', 'grad_pass_through', 'gradients', 'graph_util', 'greater', 'greater_equal', 'group', 'guarantee_const', 'half', 'hessians', 'histogram_fixed_width', 'histogram_fixed_width_bins', 'identity', 'identity_n', 'image', 'import_graph_def', 'init_scope', 'initializers', 'int16', 'int32', 'int64', 'int8', 'io', 'is_tensor', 'keras', 'less', 'less_equal', 'linalg', 'linspace', 'lite', 'load_library', 'load_op_library', 'logical_and', 'logical_not', 'logical_or', 'lookup', 'losses', 'make_ndarray', 'make_tensor_proto', 'map_fn', 'math', 'matmul', 'matrix_square_root', 'maximum', 'meshgrid', 'metrics', 'minimum', 'mixed_precision', 'mlir', 'multiply', 'name_scope', 'negative', 'nest', 'newaxis', 'nn', 'no_gradient', 'no_op', 'nondifferentiable_batch_function', 'norm', 'not_equal', 'numpy_function', 'one_hot', 'ones', 'ones_initializer', 'ones_like', 'optimizers', 'pad', 'parallel_stack', 'pow', 'print', 'profiler', 'py_function', 'python', 'qint16', 'qint32', 'qint8', 'quantization', 'queue', 'quint16', 'quint8', 'ragged', 'random', 'random_normal_initializer', 'random_uniform_initializer', 'range', 'rank', 'raw_ops', 'realdiv', 'recompute_grad', 'reduce_all', 'reduce_any', 'reduce_logsumexp', 'reduce_max', 'reduce_mean', 'reduce_min', 'reduce_prod', 'reduce_sum', 'register_tensor_conversion_function', 'repeat', 'required_space_to_batch_paddings', 'reshape', 'resource', 'reverse', 'reverse_sequence', 'roll', 'round', 'saturate_cast', 'saved_model', 'scalar_mul', 'scan', 'scatter_nd', 'searchsorted', 'sequence_mask', 'sets', 'shape', 'shape_n', 'sigmoid', 'sign', 'signal', 'sin', 'sinh', 'size', 'slice', 'sort', 'space_to_batch', 'space_to_batch_nd', 'sparse', 'split', 'sqrt', 'square', 'squeeze', 'stack', 'stop_gradient', 'strided_slice', 'string', 'strings', 'subtract', 'summary', 'switch_case', 'sysconfig', 'tan', 'tanh', 'tensor_scatter_nd_add', 'tensor_scatter_nd_sub', 'tensor_scatter_nd_update', 'tensordot', 'test', 'tile', 'timestamp', 'tools', 'tpu', 'train', 'transpose', 'truediv', 'truncatediv', 'truncatemod', 'tuple', 'uint16', 'uint32', 'uint64', 'uint8', 'unique', 'unique_with_counts', 'unravel_index', 'unstack', 'variable_creator_scope', 'variant', 'vectorized_map', 'version', 'where', 'while_loop', 'xla', 'zeros', 'zeros_initializer', 'zeros_like']\n"
    }
   ],
   "source": [
    "import tensorflow\n",
    "print(dir(tensorflow))"
   ]
  },
  {
   "cell_type": "code",
   "execution_count": 2,
   "metadata": {},
   "outputs": [
    {
     "output_type": "stream",
     "name": "stdout",
     "text": "\nCalling \"call me \"method with instance:\n<__main__.joe object at 0x00000261B9F37208>\n<__main__.joe object at 0x00000261B9F37208>\n"
    }
   ],
   "source": [
    "class joe(object):\n",
    "    def callme(self):\n",
    "        print('Calling \"call me \"method with instance:')\n",
    "        print(self)\n",
    "\n",
    "print()\n",
    "thisjoe=joe()\n",
    "thisjoe.callme()\n",
    "print(thisjoe)"
   ]
  },
  {
   "cell_type": "code",
   "execution_count": 3,
   "metadata": {},
   "outputs": [
    {
     "output_type": "stream",
     "name": "stdout",
     "text": "10\ndraw\n"
    }
   ],
   "source": [
    "class Point:\n",
    "    def move(self):\n",
    "        print(\"move\")\n",
    "    def draw(self):\n",
    "        print('draw')\n",
    "\n",
    "point1=Point()\n",
    "point1.x=10\n",
    "point1.y=20\n",
    "print(point1.x)\n",
    "point1.draw()"
   ]
  },
  {
   "cell_type": "code",
   "execution_count": 4,
   "metadata": {},
   "outputs": [
    {
     "output_type": "stream",
     "name": "stdout",
     "text": "4\n"
    }
   ],
   "source": [
    "point2=Point()\n",
    "point2.x=4\n",
    "print(point2.x)\n"
   ]
  },
  {
   "cell_type": "code",
   "execution_count": 4,
   "metadata": {},
   "outputs": [
    {
     "output_type": "stream",
     "name": "stdout",
     "text": "5.0\n4.47213595499958\n0.0\n"
    }
   ],
   "source": [
    "import math\n",
    "\n",
    "class Point:\n",
    "    def move(self,x,y):\n",
    "        self.x=x\n",
    "        self.y=y\n",
    "\n",
    "    def reset(self):\n",
    "        self.move(0,0)\n",
    "    \n",
    "    def calculate_distance(self,other_point):\n",
    "        return math.sqrt(\n",
    "            (self.x-other_point.x)**2 +\n",
    "            (self.y- other_point.y)**2\n",
    "        )\n",
    "\n",
    "point1=Point()\n",
    "point2=Point()\n",
    "point1.reset()\n",
    "point2.move(5,0)\n",
    "\n",
    "print(point2.calculate_distance(point1))\n",
    "assert(point2.calculate_distance(point1)==\n",
    "point1.calculate_distance(point2))\n",
    "\n",
    "point1.move(3,4)\n",
    "print(point1.calculate_distance(point2))\n",
    "\n",
    "\n",
    "print(point1.calculate_distance(point1))"
   ]
  },
  {
   "cell_type": "code",
   "execution_count": 8,
   "metadata": {},
   "outputs": [
    {
     "output_type": "stream",
     "name": "stdout",
     "text": "\n10\n100\n\n"
    }
   ],
   "source": [
    "#class attribute and instance attribute\n",
    "class YourClass(object):\n",
    "    classy=10 #class attribute\n",
    "\n",
    "    def set_val(self):\n",
    "        self.insty=100 #instance attribute\n",
    "\n",
    "print()\n",
    "dd=YourClass()\n",
    "dd.set_val()\n",
    "print(dd.classy)\n",
    "print(dd.insty)\n",
    "print()"
   ]
  },
  {
   "cell_type": "code",
   "execution_count": 7,
   "metadata": {},
   "outputs": [
    {
     "output_type": "stream",
     "name": "stdout",
     "text": "\ncalling __init__\n2\n\n"
    }
   ],
   "source": [
    "#init constructor\n",
    "class MyNum(object):\n",
    "    def __init__(self):\n",
    "        print('calling __init__')\n",
    "        self.val=0\n",
    "\n",
    "    def increment(self):\n",
    "        self.val=self.val+1\n",
    "\n",
    "print()\n",
    "dd=MyNum()\n",
    "dd.increment()\n",
    "dd.increment()\n",
    "print(dd.val)\n",
    "print()"
   ]
  },
  {
   "cell_type": "code",
   "execution_count": 5,
   "metadata": {},
   "outputs": [
    {
     "output_type": "stream",
     "name": "stdout",
     "text": "10\n"
    }
   ],
   "source": [
    "class Point:\n",
    "    def __init__(self,x,y):#constructor\n",
    "        self.x=x\n",
    "        self.y=y\n",
    "\n",
    "    def move(self):\n",
    "        print(\"move\")\n",
    "    def draw(self):\n",
    "        print(\"deaw\")\n",
    "\n",
    "point=Point(10,20)\n",
    "#point x=14\n",
    "print(point.x)"
   ]
  },
  {
   "cell_type": "code",
   "execution_count": 6,
   "metadata": {},
   "outputs": [
    {
     "output_type": "stream",
     "name": "stdout",
     "text": "talk\n"
    }
   ],
   "source": [
    "class Person:\n",
    "    def talk(self):\n",
    "        print(\"talk\")\n",
    "john=Person()\n",
    "john.talk()"
   ]
  },
  {
   "cell_type": "code",
   "execution_count": 1,
   "metadata": {},
   "outputs": [],
   "source": [
    "class Recatangle:\n",
    "    def area(self):\n",
    "        return self.length*self.width"
   ]
  },
  {
   "cell_type": "code",
   "execution_count": 2,
   "metadata": {},
   "outputs": [
    {
     "output_type": "execute_result",
     "data": {
      "text/plain": "104"
     },
     "metadata": {},
     "execution_count": 2
    }
   ],
   "source": [
    "r=Recatangle()\n",
    "r.length,r.width=13,8\n",
    "r.area()"
   ]
  },
  {
   "cell_type": "code",
   "execution_count": 3,
   "metadata": {},
   "outputs": [],
   "source": [
    "class Card:\n",
    "    def __init__(self,rank,suit):\n",
    "        self.suit=suit\n",
    "        self.rank=rank\n",
    "        self.hard,self.soft=self._points()\n",
    "\n",
    "class NumberCard(Card):\n",
    "    def _points(self):\n",
    "        return int(self.rank),int(self.rank)\n",
    "class AceCard(Card):\n",
    "    def _points(self):\n",
    "        return 1,11\n",
    "class FaceCard(Card):\n",
    "    def _points(self):\n",
    "        return 10,10"
   ]
  },
  {
   "cell_type": "code",
   "execution_count": 4,
   "metadata": {},
   "outputs": [],
   "source": [
    "cards = [ AceCard('A', '♠'), NumberCard('2','♠'), NumberCard('3','♠'),\n",
    "]"
   ]
  },
  {
   "cell_type": "code",
   "execution_count": 5,
   "metadata": {},
   "outputs": [],
   "source": [
    "class Suit:\n",
    "    def __init__(self,name,symbol):\n",
    "        self.name=name\n",
    "        self.symbol=symbol\n",
    "        "
   ]
  },
  {
   "cell_type": "code",
   "execution_count": 8,
   "metadata": {},
   "outputs": [],
   "source": [
    "Club, Diamond, Heart, Spade = Suit('Club','♣'), Suit('Diamond','♦'),Suit('Heart','♥'), Suit('Spade','♠')"
   ]
  },
  {
   "cell_type": "code",
   "execution_count": 9,
   "metadata": {},
   "outputs": [],
   "source": [
    "cards = [ AceCard('A', Spade), NumberCard('2', Spade), NumberCard('3',\n",
    "Spade), ]"
   ]
  },
  {
   "cell_type": "code",
   "execution_count": 12,
   "metadata": {},
   "outputs": [],
   "source": [
    "def card(rank,suit):\n",
    "    if rank==1:return AceCard('A',suit)\n",
    "    elif 2 <=rank<11:\n",
    "        return NumberCard(str(rank),suit)\n",
    "    elif 11<=rank<14:\n",
    "        name={11:'J',12:'Q',13:'K'}[rank]\n",
    "        return FaceCard(name,suit)\n",
    "    else:\n",
    "        raise Exception('Rank out of range')"
   ]
  },
  {
   "cell_type": "code",
   "execution_count": 15,
   "metadata": {},
   "outputs": [],
   "source": [
    "deck=[\n",
    "    card(rank,suit)\n",
    "    for rank in range(1,14)\n",
    "        for suit in (Club,Diamond,Heart,Spade)\n",
    "        ]"
   ]
  },
  {
   "cell_type": "code",
   "execution_count": 16,
   "metadata": {},
   "outputs": [],
   "source": [
    "def card2(rank,suit):\n",
    "    if rank==1:\n",
    "        return AceCard('A',suit)\n",
    "    elif 2<=rank<11:\n",
    "        return NumberCard(str(rank),suit)\n",
    "    else:\n",
    "        name={11:'J',12:'Q',13:'K'}[rank] \n",
    "        return FaceCard(name,suit)\n",
    "        "
   ]
  },
  {
   "cell_type": "code",
   "execution_count": 18,
   "metadata": {},
   "outputs": [
    {
     "output_type": "error",
     "ename": "KeyError",
     "evalue": "0",
     "traceback": [
      "\u001b[1;31m---------------------------------------------------------------------------\u001b[0m",
      "\u001b[1;31mKeyError\u001b[0m                                  Traceback (most recent call last)",
      "\u001b[1;32m<ipython-input-18-2755d1e6f2d2>\u001b[0m in \u001b[0;36m<module>\u001b[1;34m\u001b[0m\n\u001b[1;32m----> 1\u001b[1;33m \u001b[0mdeck2\u001b[0m \u001b[1;33m=\u001b[0m \u001b[1;33m[\u001b[0m\u001b[0mcard2\u001b[0m\u001b[1;33m(\u001b[0m\u001b[0mrank\u001b[0m\u001b[1;33m,\u001b[0m \u001b[0msuit\u001b[0m\u001b[1;33m)\u001b[0m \u001b[1;32mfor\u001b[0m \u001b[0mrank\u001b[0m \u001b[1;32min\u001b[0m \u001b[0mrange\u001b[0m\u001b[1;33m(\u001b[0m\u001b[1;36m13\u001b[0m\u001b[1;33m)\u001b[0m \u001b[1;32mfor\u001b[0m \u001b[0msuit\u001b[0m \u001b[1;32min\u001b[0m \u001b[1;33m(\u001b[0m\u001b[0mClub\u001b[0m\u001b[1;33m,\u001b[0m\u001b[0mDiamond\u001b[0m\u001b[1;33m,\u001b[0m \u001b[0mHeart\u001b[0m\u001b[1;33m,\u001b[0m \u001b[0mSpade\u001b[0m\u001b[1;33m)\u001b[0m\u001b[1;33m]\u001b[0m\u001b[1;33m\u001b[0m\u001b[1;33m\u001b[0m\u001b[0m\n\u001b[0m",
      "\u001b[1;32m<ipython-input-18-2755d1e6f2d2>\u001b[0m in \u001b[0;36m<listcomp>\u001b[1;34m(.0)\u001b[0m\n\u001b[1;32m----> 1\u001b[1;33m \u001b[0mdeck2\u001b[0m \u001b[1;33m=\u001b[0m \u001b[1;33m[\u001b[0m\u001b[0mcard2\u001b[0m\u001b[1;33m(\u001b[0m\u001b[0mrank\u001b[0m\u001b[1;33m,\u001b[0m \u001b[0msuit\u001b[0m\u001b[1;33m)\u001b[0m \u001b[1;32mfor\u001b[0m \u001b[0mrank\u001b[0m \u001b[1;32min\u001b[0m \u001b[0mrange\u001b[0m\u001b[1;33m(\u001b[0m\u001b[1;36m13\u001b[0m\u001b[1;33m)\u001b[0m \u001b[1;32mfor\u001b[0m \u001b[0msuit\u001b[0m \u001b[1;32min\u001b[0m \u001b[1;33m(\u001b[0m\u001b[0mClub\u001b[0m\u001b[1;33m,\u001b[0m\u001b[0mDiamond\u001b[0m\u001b[1;33m,\u001b[0m \u001b[0mHeart\u001b[0m\u001b[1;33m,\u001b[0m \u001b[0mSpade\u001b[0m\u001b[1;33m)\u001b[0m\u001b[1;33m]\u001b[0m\u001b[1;33m\u001b[0m\u001b[1;33m\u001b[0m\u001b[0m\n\u001b[0m",
      "\u001b[1;32m<ipython-input-16-5fcd297b8824>\u001b[0m in \u001b[0;36mcard2\u001b[1;34m(rank, suit)\u001b[0m\n\u001b[0;32m      5\u001b[0m         \u001b[1;32mreturn\u001b[0m \u001b[0mNumberCard\u001b[0m\u001b[1;33m(\u001b[0m\u001b[0mstr\u001b[0m\u001b[1;33m(\u001b[0m\u001b[0mrank\u001b[0m\u001b[1;33m)\u001b[0m\u001b[1;33m,\u001b[0m\u001b[0msuit\u001b[0m\u001b[1;33m)\u001b[0m\u001b[1;33m\u001b[0m\u001b[1;33m\u001b[0m\u001b[0m\n\u001b[0;32m      6\u001b[0m     \u001b[1;32melse\u001b[0m\u001b[1;33m:\u001b[0m\u001b[1;33m\u001b[0m\u001b[1;33m\u001b[0m\u001b[0m\n\u001b[1;32m----> 7\u001b[1;33m         \u001b[0mname\u001b[0m\u001b[1;33m=\u001b[0m\u001b[1;33m{\u001b[0m\u001b[1;36m11\u001b[0m\u001b[1;33m:\u001b[0m\u001b[1;34m'J'\u001b[0m\u001b[1;33m,\u001b[0m\u001b[1;36m12\u001b[0m\u001b[1;33m:\u001b[0m\u001b[1;34m'Q'\u001b[0m\u001b[1;33m,\u001b[0m\u001b[1;36m13\u001b[0m\u001b[1;33m:\u001b[0m\u001b[1;34m'K'\u001b[0m\u001b[1;33m}\u001b[0m\u001b[1;33m[\u001b[0m\u001b[0mrank\u001b[0m\u001b[1;33m]\u001b[0m\u001b[1;33m\u001b[0m\u001b[1;33m\u001b[0m\u001b[0m\n\u001b[0m\u001b[0;32m      8\u001b[0m         \u001b[1;32mreturn\u001b[0m \u001b[0mFaceCard\u001b[0m\u001b[1;33m(\u001b[0m\u001b[0mname\u001b[0m\u001b[1;33m,\u001b[0m\u001b[0msuit\u001b[0m\u001b[1;33m)\u001b[0m\u001b[1;33m\u001b[0m\u001b[1;33m\u001b[0m\u001b[0m\n\u001b[0;32m      9\u001b[0m \u001b[1;33m\u001b[0m\u001b[0m\n",
      "\u001b[1;31mKeyError\u001b[0m: 0"
     ]
    }
   ],
   "source": [
    "deck2 = [card2(rank, suit) for rank in range(13) for suit in (Club,Diamond, Heart, Spade)]"
   ]
  },
  {
   "cell_type": "code",
   "execution_count": null,
   "metadata": {},
   "outputs": [],
   "source": [
    "class InstanceCounter(object):\n",
    "    count=0#class attribute\n",
    "\n",
    "    def __init__(self,val):\n",
    "        self.val=val #instance atrribute,value,data\n",
    "        InstanceCounter.count +=1\n",
    "\n",
    "    def set_val(self,newval):\n",
    "        self.val=newval\n",
    "\n",
    "    def get_val(self):\n",
    "        return self.val\n",
    "    \n",
    "    def get_count(self):\n",
    "        return InstanceCounter.count\n",
    "\n",
    "a=InstanceCounter(5)\n",
    "b=InstanceCounter(13)\n",
    "c=InstanceCounter(17)\n",
    "\n",
    "for obj in (a,b,c):\n",
    "    print(\"val of obj:%s\" %(obj.get_val()))\n",
    "    print(\"count:%s\"%(obj.get_count()))"
   ]
  },
  {
   "cell_type": "code",
   "execution_count": 7,
   "metadata": {},
   "outputs": [
    {
     "output_type": "stream",
     "name": "stdout",
     "text": "Hi,I am John Smith\nHi,I am Bob Smith\n"
    }
   ],
   "source": [
    "class person:\n",
    "    def __init__(self,name):#constructor\n",
    "        self.name=name\n",
    "    def talk(self):\n",
    "        print(f'Hi,I am {self.name}')\n",
    "john=person('John Smith')\n",
    "#print(john.name)\n",
    "john.talk()\n",
    "bob=person('Bob Smith')\n",
    "bob.talk()"
   ]
  },
  {
   "cell_type": "code",
   "execution_count": 2,
   "metadata": {},
   "outputs": [
    {
     "output_type": "stream",
     "name": "stdout",
     "text": "10\n100\n"
    }
   ],
   "source": [
    "#encapsulation \n",
    "class MyClass(object):\n",
    "    def set_val(self,val):\n",
    "        self.value=val\n",
    "    def get_val(self):\n",
    "        return self.value\n",
    "\n",
    "a=MyClass()\n",
    "b=MyClass()\n",
    "\n",
    "a.set_val(10)\n",
    "b.set_val(100)\n",
    "\n",
    "print(a.get_val())\n",
    "print(b.get_val())"
   ]
  },
  {
   "cell_type": "code",
   "execution_count": 8,
   "metadata": {},
   "outputs": [
    {
     "output_type": "stream",
     "name": "stdout",
     "text": "walk\nMeeeeouuuuu\nwalk\n"
    }
   ],
   "source": [
    "#inheritance\n",
    "class Mammal:\n",
    "    def walk(self):\n",
    "        print(\"walk\")\n",
    "class Dog(Mammal):\n",
    "    def bark(self):\n",
    "        print('bark')\n",
    "\n",
    "class Cat(Mammal):\n",
    "    def meow(self):\n",
    "        print('Meeeeouuuuu')\n",
    "    \n",
    "dog1=Dog()\n",
    "dog1.walk()\n",
    "cat=Cat()\n",
    "cat.meow()\n",
    "cat.walk()"
   ]
  },
  {
   "cell_type": "code",
   "execution_count": 6,
   "metadata": {},
   "outputs": [
    {
     "output_type": "stream",
     "name": "stdout",
     "text": "2020-08-09\n08:13:07\n2020-08-09\n"
    }
   ],
   "source": [
    "#inheritance\n",
    "class Date(object): #inherits from the object class\n",
    "    def get_Date(self):\n",
    "        return '2020-08-09'\n",
    "class Time(Date):   #inherits from teh 'Date' class\n",
    "    def get_Time(self):\n",
    "        return '08:13:07'\n",
    "    \n",
    "dt=Date()\n",
    "print(dt.get_Date()) \n",
    "tm=Time()\n",
    "print(tm.get_Time())\n",
    "print(tm.get_Date()) #foun this method in the date class"
   ]
  },
  {
   "cell_type": "code",
   "execution_count": 9,
   "metadata": {},
   "outputs": [
    {
     "output_type": "stream",
     "name": "stdout",
     "text": "Rover goes after the paper!\nFluffy shreds the string!\nRover is eating dog food\nFluffy is eating cat food\n"
    }
   ],
   "source": [
    "class Animal(object):\n",
    "    def __init__(self,name):\n",
    "        self.name=name\n",
    "    def eat(self,food):\n",
    "        print(\"%s is eating %s\"%(self.name,food))\n",
    "\n",
    "class Dog(Animal):\n",
    "    def fetch(self,thing):\n",
    "        print(\"%s goes after the %s!\"%(self.name,thing))\n",
    "\n",
    "class Cat(Animal):\n",
    "    def swatstring(self):\n",
    "        print(\"%s shreds the string!\" %(self.name))\n",
    "\n",
    "\n",
    "d=Dog('Rover')\n",
    "c=Cat('Fluffy')\n",
    "\n",
    "d.fetch('paper')\n",
    "c.swatstring()\n",
    "d.eat('dog food')\n",
    "c.eat('cat food')"
   ]
  },
  {
   "cell_type": "code",
   "execution_count": 10,
   "metadata": {},
   "outputs": [
    {
     "output_type": "stream",
     "name": "stdout",
     "text": "Rover wags tail\nFluffy purrs\nPrecious purrs\nScout wags tail\n"
    }
   ],
   "source": [
    "#polymorphism\n",
    "class Animal(object):\n",
    "    def __init__(self,name):\n",
    "        self.name=name\n",
    "    def eat(self,food):\n",
    "        print('{0} eats {1}'.format(self.name,food))\n",
    "\n",
    "class Dog(Animal):\n",
    "    def fetch(self,thing):\n",
    "        print('{0} goes after the {1}'.format(self.name,thing))\n",
    "\n",
    "    def show_affection(self):\n",
    "        print('{0} wags tail'.format(self.name))\n",
    "\n",
    "class Cat(Animal):\n",
    "    def swatstring(self):\n",
    "        print('{0} shreds the string !'.format(self.name))\n",
    "    def show_affection(self):\n",
    "        print('{0} purrs'.format(self.name))\n",
    "\n",
    "for a in (Dog('Rover'),Cat('Fluffy'),Cat('Precious'),Dog('Scout')):\n",
    "    a.show_affection()\n"
   ]
  },
  {
   "cell_type": "code",
   "execution_count": 18,
   "metadata": {},
   "outputs": [
    {
     "output_type": "stream",
     "name": "stdout",
     "text": "dogname\nShih Tzu\n"
    }
   ],
   "source": [
    "#inheriting the constructor\n",
    "import random\n",
    "class Animal(object):\n",
    "    def __init__(self,name):\n",
    "        self.name=name\n",
    "\n",
    "class Dog(Animal):\n",
    "    def __init__(self,name):\n",
    "        super(Dog,self).__init__(name)\n",
    "        self.breed=random.choice(['Shih Tzu','Beagle','Mutt'])\n",
    "\n",
    "    def fetch(self,thing):\n",
    "        print(\"%s goes after the %s!\"%(self.name,thing))\n",
    "    \n",
    "d=Dog('dogname')\n",
    "print(d.name)\n",
    "print(d.breed)"
   ]
  },
  {
   "cell_type": "code",
   "execution_count": 19,
   "metadata": {},
   "outputs": [
    {
     "output_type": "stream",
     "name": "stdout",
     "text": "doing this in  A\n[<class '__main__.D'>, <class '__main__.B'>, <class '__main__.A'>, <class '__main__.C'>, <class 'object'>]\n"
    }
   ],
   "source": [
    "#multiple inheritance\n",
    "#python internally search class in multiple inheriatnace is DFS(Depth First search)\n",
    "class A(object):\n",
    "    def dothis(self):\n",
    "        print('doing this in  A')\n",
    "class B(A):\n",
    "    pass\n",
    "class C(object):\n",
    "    def dothis(self):\n",
    "        print(\"doing this in c\")\n",
    "class D(B,C):\n",
    "    pass\n",
    "d_instance=D()\n",
    "d_instance.dothis()\n",
    "#method resolutin order\n",
    "print(D.mro())"
   ]
  },
  {
   "cell_type": "code",
   "execution_count": 20,
   "metadata": {},
   "outputs": [
    {
     "output_type": "stream",
     "name": "stdout",
     "text": "doing this in c\n[<class '__main__.D'>, <class '__main__.B'>, <class '__main__.C'>, <class '__main__.A'>, <class 'object'>]\n"
    }
   ],
   "source": [
    "#daimond pattern using multiple inheritance\n",
    "class A(object):\n",
    "    def  dothis(self):\n",
    "        print('doing this in A')\n",
    "    \n",
    "class B(A):\n",
    "    pass\n",
    "\n",
    "class C(A):\n",
    "    def dothis(self):\n",
    "        print('doing this in c')\n",
    "\n",
    "class D(B,C):\n",
    "    pass\n",
    "d_instance=D()\n",
    "d_instance.dothis()\n",
    "print(D.mro())"
   ]
  },
  {
   "cell_type": "code",
   "execution_count": 21,
   "metadata": {},
   "outputs": [
    {
     "output_type": "stream",
     "name": "stdout",
     "text": "Val of obj :5\nCount: 3\nVal of obj :13\nCount: 3\nVal of obj :17\nCount: 3\n"
    }
   ],
   "source": [
    "class InstanceCounter(object):\n",
    "    count=0\n",
    "\n",
    "    def __init__(self,val):\n",
    "        self.val=val\n",
    "        InstanceCounter.count +=1\n",
    "\n",
    "    def set_val(self,newval):\n",
    "        self.val=newval\n",
    "    \n",
    "    def get_val(self):\n",
    "        return self.val\n",
    "    \n",
    "    def get_count(self):\n",
    "        return InstanceCounter.count\n",
    "\n",
    "\n",
    "a=InstanceCounter(5)\n",
    "b=InstanceCounter(13)\n",
    "c=InstanceCounter(17)\n",
    "\n",
    "for obj in (a,b,c):\n",
    "    print(\"Val of obj :%s\"%(obj.get_val()))\n",
    "    print(\"Count: %s\" %(obj.get_count()))"
   ]
  },
  {
   "cell_type": "code",
   "execution_count": 12,
   "metadata": {},
   "outputs": [],
   "source": [
    "#abstract class\n",
    "import abc\n"
   ]
  },
  {
   "cell_type": "code",
   "execution_count": 11,
   "metadata": {},
   "outputs": [
    {
     "output_type": "stream",
     "name": "stdout",
     "text": "file object : this is a silly message\nStringIO object: this is a silly message\n"
    }
   ],
   "source": [
    "#composition vs inheritance\n",
    "import random\n",
    "from io import StringIO\n",
    "\n",
    "class WriteMyStuff(object):\n",
    "    def __init__(self,writer):\n",
    "        self.writer=writer\n",
    "    def write(self):\n",
    "        write_txt=\"this is a silly message\"\n",
    "        self.writer.write(write_txt)\n",
    "\n",
    "fh=open('test.txt','w')\n",
    "w1=WriteMyStuff(fh)\n",
    "w1.write()\n",
    "fh.close()\n",
    "\n",
    "sioh=StringIO()\n",
    "w2=WriteMyStuff(sioh)\n",
    "w2.write()\n",
    "\n",
    "print('file object :',open('test.txt','r').read())\n",
    "print('StringIO object:',sioh.getvalue())"
   ]
  },
  {
   "cell_type": "code",
   "execution_count": 9,
   "metadata": {},
   "outputs": [
    {
     "output_type": "stream",
     "name": "stdout",
     "text": "45.0\n"
    }
   ],
   "source": [
    "#module in python\n",
    "import Convertor\n",
    "print(Convertor.lbs_to_kg(100))"
   ]
  },
  {
   "cell_type": "code",
   "execution_count": 10,
   "metadata": {},
   "outputs": [
    {
     "output_type": "stream",
     "name": "stdout",
     "text": "0.8247507392661111\n0.44406943616561645\n0.3530133969872129\n0.17071318635105193\n"
    }
   ],
   "source": [
    "#Generating random values\n",
    "#build in module in python(python 3 module index)\n",
    "import random\n",
    "for  i in range(4):\n",
    "    print(random.random())\n"
   ]
  },
  {
   "cell_type": "code",
   "execution_count": 11,
   "metadata": {},
   "outputs": [
    {
     "output_type": "stream",
     "name": "stdout",
     "text": "17\n10\n10\n12\n13\n"
    }
   ],
   "source": [
    "for i in range(5):\n",
    "    print(random.randint(10,20))"
   ]
  },
  {
   "cell_type": "code",
   "execution_count": 12,
   "metadata": {},
   "outputs": [
    {
     "output_type": "stream",
     "name": "stdout",
     "text": "Mosh\n"
    }
   ],
   "source": [
    "#using list\n",
    "members=['John','Mary','Bob','Mosh']\n",
    "leader=random.choice(members)\n",
    "print(leader)"
   ]
  },
  {
   "cell_type": "code",
   "execution_count": 13,
   "metadata": {},
   "outputs": [
    {
     "output_type": "stream",
     "name": "stdout",
     "text": "(1, 4)\n"
    }
   ],
   "source": [
    "class Dice:\n",
    "    def roll(self):\n",
    "        first=random.randint(1,6)\n",
    "        second=random.randint(1,6)\n",
    "        return first,second\n",
    "\n",
    "dice =Dice()\n",
    "print(dice.roll())"
   ]
  },
  {
   "cell_type": "code",
   "execution_count": 4,
   "metadata": {},
   "outputs": [],
   "source": [
    "import turtle\n",
    "def drawSpiral(t,length,color,colorBase):\n",
    "    if length == 0:\n",
    "        return\n",
    "\n",
    "    newColor=(int(color[1:],16)+2**10)%(2**24)\n",
    "    base=int(colorBase[1:],16)\n",
    "\n",
    "    if newColor<base:\n",
    "        newColor=(newColor+base)%(2**24)\n",
    "\n",
    "    newColor=hex(newColor)[2:]\n",
    "    newColor=\"#\"+(\"0\"*(6-len(newColor)))+newColor\n",
    "    t.color(newColor)\n",
    "    t.forward(length)\n",
    "    t.left(90)\n",
    "\n",
    "    drawSpiral(t,length-1,newColor,colorBase)\n",
    "\n",
    "\n",
    "def main():\n",
    "    t=turtle.Turtle()\n",
    "    screen=t.getscreen()\n",
    "    t.speed(100)\n",
    "    t.penup()\n",
    "    t.goto(-100,100)\n",
    "    t.pendown()\n",
    "    drawSpiral(t,200,\"#000000\",\"#ff00fff\")\n",
    "    screen.exitonclick()\n"
   ]
  },
  {
   "cell_type": "code",
   "execution_count": 5,
   "metadata": {},
   "outputs": [],
   "source": [
    "if __name__==\"__main__\":\n",
    "    main()"
   ]
  },
  {
   "cell_type": "code",
   "execution_count": 6,
   "metadata": {},
   "outputs": [],
   "source": [
    "\n",
    "from Class_Object.NameCard import Card"
   ]
  },
  {
   "cell_type": "code",
   "execution_count": 2,
   "metadata": {},
   "outputs": [],
   "source": [
    "class Card:\n",
    "\n",
    "    def __init__(self,rank,suit):\n",
    "        self.suit=suit\n",
    "        self.rank=rank\n",
    "        self.hard,self.soft=self._points()\n",
    "\n",
    "class NumberCard(Card):\n",
    "    def _points(self):\n",
    "        return int(self.rank),int(self.rank)\n",
    "\n",
    "class AceCard(Card):\n",
    "    def _points(self):\n",
    "        return 1,11\n",
    "\n",
    "class FaceCard(Card):\n",
    "    def _points(self):\n",
    "        return 10,10\n"
   ]
  },
  {
   "cell_type": "code",
   "execution_count": 3,
   "metadata": {},
   "outputs": [],
   "source": [
    "class Suit:\n",
    "    def __init__(self,name,symbol):\n",
    "        self.name=name\n",
    "        self.symbol=symbol\n"
   ]
  },
  {
   "cell_type": "code",
   "execution_count": 8,
   "metadata": {},
   "outputs": [],
   "source": [
    "Club,Diamond,Heart,Spade=Suit('Culb','😁'),Suit('Daimond','🤩'),Suit('Heart','😚'),Suit('Spade','😂')"
   ]
  },
  {
   "cell_type": "code",
   "execution_count": 7,
   "metadata": {},
   "outputs": [],
   "source": [
    "cards=[AceCard('A',Spade),NumberCard('2',Spade),NumberCard('3',Spade)]"
   ]
  },
  {
   "cell_type": "code",
   "execution_count": 18,
   "metadata": {},
   "outputs": [],
   "source": [
    "def card(rank,suit):\n",
    "    if rank==1 :return AceCard('A',suit)\n",
    "    elif 2<=rank<11:return NumberCard(str(rank),suit)\n",
    "    elif 11<=rank<14:\n",
    "        name={11:'J',12:'Q',13:'K'}[rank]\n",
    "        return FaceCard(name,suit)\n",
    "    else:\n",
    "        raise Exception(\"Rank out of range\")"
   ]
  },
  {
   "cell_type": "code",
   "execution_count": 19,
   "metadata": {},
   "outputs": [],
   "source": [
    "deck=[card(rank,suit)\n",
    "for rank in range(1,14)\n",
    "    for suit in (Club,Diamond,Heart,Spade)]"
   ]
  },
  {
   "cell_type": "code",
   "execution_count": 10,
   "metadata": {},
   "outputs": [
    {
     "output_type": "stream",
     "name": "stdout",
     "text": "['a', 'b', 'c', 'd']\n"
    }
   ],
   "source": [
    "import pickle\n",
    "# myA=['a','b','c','d']\n",
    "\n",
    "# with open('datafile.txt','wb') as fh:\n",
    "#     pickle._dump(myA,fh)\n",
    "\n",
    "with open('datafile.txt','rb') as fh:\n",
    "    unpickedlist=pickle.load(fh)\n",
    "\n",
    "print(unpickedlist)"
   ]
  },
  {
   "cell_type": "code",
   "execution_count": 11,
   "metadata": {},
   "outputs": [],
   "source": [
    "import pickle\n",
    "x=pickle.dumps(['a','b',1,2,3])\n"
   ]
  },
  {
   "cell_type": "code",
   "execution_count": 12,
   "metadata": {},
   "outputs": [],
   "source": [
    "var=pickle.loads(x)"
   ]
  },
  {
   "cell_type": "code",
   "execution_count": 13,
   "metadata": {},
   "outputs": [
    {
     "output_type": "stream",
     "name": "stdout",
     "text": "['a', 'b', 1, 2, 3]\n"
    }
   ],
   "source": [
    "print(var)"
   ]
  },
  {
   "cell_type": "code",
   "execution_count": 14,
   "metadata": {},
   "outputs": [
    {
     "output_type": "execute_result",
     "data": {
      "text/plain": "bytes"
     },
     "metadata": {},
     "execution_count": 14
    }
   ],
   "source": [
    "type(x)"
   ]
  },
  {
   "cell_type": "code",
   "execution_count": 15,
   "metadata": {},
   "outputs": [
    {
     "output_type": "execute_result",
     "data": {
      "text/plain": "b'\\x80\\x03]q\\x00(X\\x01\\x00\\x00\\x00aq\\x01X\\x01\\x00\\x00\\x00bq\\x02K\\x01K\\x02K\\x03e.'"
     },
     "metadata": {},
     "execution_count": 15
    }
   ],
   "source": [
    "x"
   ]
  },
  {
   "cell_type": "code",
   "execution_count": 17,
   "metadata": {},
   "outputs": [],
   "source": [
    "this_int=555\n",
    "this_string='oh my goodness'\n",
    "mydict_of_lists={\n",
    "    'a':[1,2,3],\n",
    "    'b':[4,5,6]\n",
    "}\n",
    "\n",
    "query_results=[('joe',22,'clerk'),('pete',34,'salesman')]\n",
    "\n",
    "with open('datafile1.txt','wb') as fh:\n",
    "    pickle.dump((this_int,this_string,mydict_of_lists,query_results),fh)\n"
   ]
  },
  {
   "cell_type": "code",
   "execution_count": 18,
   "metadata": {},
   "outputs": [],
   "source": [
    "with open('datafile1.txt','rb')as fh:\n",
    "    tup=pickle.load(fh)"
   ]
  },
  {
   "cell_type": "code",
   "execution_count": 21,
   "metadata": {},
   "outputs": [
    {
     "output_type": "stream",
     "name": "stdout",
     "text": "index 0: 555\nindex 1: oh my goodness\nindex 2: {'a': [1, 2, 3], 'b': [4, 5, 6]}\nindex 3: [('joe', 22, 'clerk'), ('pete', 34, 'salesman')]\n"
    }
   ],
   "source": [
    "print(\"index 0:\",tup[0])\n",
    "print(\"index 1:\",tup[1])\n",
    "print(\"index 2:\",tup[2])\n",
    "print(\"index 3:\",tup[3])\n"
   ]
  },
  {
   "cell_type": "code",
   "execution_count": 23,
   "metadata": {},
   "outputs": [],
   "source": [
    "class MyCalss(object):\n",
    "\n",
    "    def __init__(self,init_val):\n",
    "        self.val=init_val\n",
    "\n",
    "    def increment(self):\n",
    "        self.val+=1\n",
    "\n",
    "cc=MyCalss(5)\n",
    "cc.increment()\n",
    "cc.increment()"
   ]
  },
  {
   "cell_type": "code",
   "execution_count": 24,
   "metadata": {},
   "outputs": [],
   "source": [
    "with open('datafile2.txt','wb') as fh:\n",
    "    pickle.dump(cc,fh)"
   ]
  },
  {
   "cell_type": "code",
   "execution_count": 25,
   "metadata": {},
   "outputs": [],
   "source": [
    "with open('datafile2.txt','rb') as fh:\n",
    "    unpicked_cc=pickle.load(fh)\n",
    "    "
   ]
  },
  {
   "cell_type": "code",
   "execution_count": 26,
   "metadata": {},
   "outputs": [
    {
     "output_type": "stream",
     "name": "stdout",
     "text": "<__main__.MyCalss object at 0x0000019B9F3C33C8>\n"
    }
   ],
   "source": [
    "print(unpicked_cc)"
   ]
  },
  {
   "cell_type": "code",
   "execution_count": 27,
   "metadata": {},
   "outputs": [
    {
     "output_type": "stream",
     "name": "stdout",
     "text": "7\n"
    }
   ],
   "source": [
    "print(unpicked_cc.val)"
   ]
  },
  {
   "cell_type": "code",
   "execution_count": 29,
   "metadata": {},
   "outputs": [
    {
     "output_type": "stream",
     "name": "stdout",
     "text": "{'port': 80, 'newkey': 5.00005, 'hostname': 'localhost', 'credentials': {'password': 'secret', 'username': 'milanoid'}}\n"
    }
   ],
   "source": [
    "import json\n",
    "\n",
    "with open('backup_config.json','rb') as fh:\n",
    "    conf=json.load(fh)\n",
    "\n",
    "print(conf)\n"
   ]
  },
  {
   "cell_type": "code",
   "execution_count": 30,
   "metadata": {},
   "outputs": [
    {
     "output_type": "stream",
     "name": "stdout",
     "text": "<class 'dict'>\n"
    }
   ],
   "source": [
    "print(type(conf))"
   ]
  },
  {
   "cell_type": "code",
   "execution_count": 34,
   "metadata": {},
   "outputs": [],
   "source": [
    "conf['newkey']=5.00005\n",
    "with open('backup_config.json','w')as fh:\n",
    "    json.dump(conf,fh)"
   ]
  },
  {
   "cell_type": "code",
   "execution_count": 37,
   "metadata": {},
   "outputs": [
    {
     "output_type": "stream",
     "name": "stdout",
     "text": "{\"a\": [1, 2, 3], \"c\": [7, 8, 9], \"b\": [4, 5, 6]}\n"
    }
   ],
   "source": [
    "import json\n",
    "x=json.dumps({'a':[1,2,3],'c':[7,8,9],'b':[4,5,6]})\n",
    "print(x)"
   ]
  },
  {
   "cell_type": "code",
   "execution_count": 41,
   "metadata": {},
   "outputs": [
    {
     "output_type": "stream",
     "name": "stdout",
     "text": "a\n1\n2\n3\nc\n7\n8\n9\nb\n4\n5\n6\n"
    }
   ],
   "source": [
    "mystruct=json.loads(x)\n",
    "for  key in mystruct:\n",
    "    print(key)\n",
    "    for el in mystruct[key]:\n",
    "        print(\"{0}\".format(el))"
   ]
  },
  {
   "cell_type": "code",
   "execution_count": null,
   "metadata": {},
   "outputs": [],
   "source": []
  }
 ],
 "metadata": {
  "language_info": {
   "codemirror_mode": {
    "name": "ipython",
    "version": 3
   },
   "file_extension": ".py",
   "mimetype": "text/x-python",
   "name": "python",
   "nbconvert_exporter": "python",
   "pygments_lexer": "ipython3",
   "version": "3.7.7-final"
  },
  "orig_nbformat": 2,
  "kernelspec": {
   "name": "python_defaultSpec_1599061490329",
   "display_name": "Python 3.7.7 64-bit ('tensorflow_env1': conda)"
  }
 },
 "nbformat": 4,
 "nbformat_minor": 2
}