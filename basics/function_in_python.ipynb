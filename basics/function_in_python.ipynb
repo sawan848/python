{
 "cells": [
  {
   "cell_type": "code",
   "execution_count": 2,
   "metadata": {},
   "outputs": [
    {
     "output_type": "stream",
     "name": "stdout",
     "text": "Start\nHi there!\nWelcome aboard\nfinish\n"
    }
   ],
   "source": [
    "def greet_user():\n",
    "    print(\"Hi there!\")\n",
    "    print('Welcome aboard')\n",
    "\n",
    "print('Start')\n",
    "greet_user()\n",
    "print(\"finish\")"
   ]
  },
  {
   "cell_type": "code",
   "execution_count": 3,
   "metadata": {},
   "outputs": [
    {
     "output_type": "stream",
     "name": "stdout",
     "text": "Start\nHi John!\nWelcome aboard\nHi Marry!\nWelcome aboard\nFinish\n"
    }
   ],
   "source": [
    "#sigle parameter\n",
    "def greet_user(name):\n",
    "    print(f'Hi {name}!')\n",
    "    print('Welcome aboard')\n",
    "\n",
    "print('Start')\n",
    "greet_user('John')\n",
    "greet_user('Marry')\n",
    "print(\"Finish\")"
   ]
  },
  {
   "cell_type": "code",
   "execution_count": 6,
   "metadata": {},
   "outputs": [
    {
     "output_type": "stream",
     "name": "stdout",
     "text": "Start\nhi Rayan clarke!\nWelcome aboard\nFinish\n"
    }
   ],
   "source": [
    "#multiple parameter\n",
    "def greet_user(first_name,last_name):\n",
    "    print(f'hi {first_name} {last_name}!')\n",
    "    print('Welcome aboard')\n",
    "\n",
    "print('Start')\n",
    "greet_user('Rayan' ,'clarke')\n",
    "print('Finish')"
   ]
  },
  {
   "cell_type": "code",
   "execution_count": null,
   "metadata": {},
   "outputs": [],
   "source": []
  }
 ],
 "metadata": {
  "language_info": {
   "codemirror_mode": {
    "name": "ipython",
    "version": 3
   },
   "file_extension": ".py",
   "mimetype": "text/x-python",
   "name": "python",
   "nbconvert_exporter": "python",
   "pygments_lexer": "ipython3",
   "version": 3
  },
  "orig_nbformat": 2,
  "kernelspec": {
   "name": "python_defaultSpec_1596456628057",
   "display_name": "Python 3.7.7 64-bit ('tensorflow_env1': conda)"
  }
 },
 "nbformat": 4,
 "nbformat_minor": 2
}