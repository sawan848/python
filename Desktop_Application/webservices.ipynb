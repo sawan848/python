{
 "cells": [
  {
   "cell_type": "code",
   "execution_count": 2,
   "metadata": {},
   "outputs": [
    {
     "output_type": "stream",
     "name": "stdout",
     "text": "Name: Rayan Clarke\nAttr: yes\n"
    }
   ],
   "source": [
    "import xml.etree.ElementTree  as ET\n",
    "\n",
    "data='''\n",
    "<person>\n",
    "<name>Rayan Clarke</name>\n",
    "<phone type=\"intl\">\n",
    "+1 734 303 4456\n",
    "</phone>\n",
    "<email hide=\"yes\"/>\n",
    "</person>'''\n",
    "\n",
    "tree=ET.fromstring(data)\n",
    "print('Name:',tree.find('name').text)\n",
    "print('Attr:',tree.find('email').get('hide'))"
   ]
  },
  {
   "cell_type": "code",
   "execution_count": 4,
   "metadata": {},
   "outputs": [
    {
     "output_type": "stream",
     "name": "stdout",
     "text": "User count:  2\nName:  Rayan\nId:  001\nAttribute 2\nName:  Brent\nId:  009\nAttribute 7\n"
    }
   ],
   "source": [
    "input='''\n",
    "<stuff>\n",
    "    <users>\n",
    "        <user x=\"2\">\n",
    "            <id>001</id>\n",
    "            <name>Rayan</name>\n",
    "        </user>\n",
    "        <user x=\"7\">\n",
    "            <id>009</id>\n",
    "            <name>Brent</name>\n",
    "        </user>\n",
    "    </users>\n",
    "</stuff>\n",
    "'''\n",
    "stuff=ET.fromstring(input)\n",
    "lst=stuff.findall('users/user')\n",
    "print('User count: ',len(lst))\n",
    "\n",
    "for item in lst:\n",
    "    print('Name: ',item.find('name').text)\n",
    "    print('Id: ',item.find('id').text)\n",
    "    print('Attribute',item.get(\"x\"))"
   ]
  },
  {
   "cell_type": "code",
   "execution_count": 21,
   "metadata": {},
   "outputs": [
    {
     "output_type": "stream",
     "name": "stdout",
     "text": "Name: Rayan\nHide: yes\n"
    }
   ],
   "source": [
    "\"\"\"\n",
    "javaScript object Notation(json)\n",
    "\n",
    "-->Douglas crockford-'Discovered json'\n",
    "-->object literal notation in javascript\n",
    "\"\"\"\n",
    "import json\n",
    "data = '''\n",
    "{\n",
    "    \"name\" : \"Rayan\",\n",
    "    \"phone\" : {\n",
    "        \"type\" : \"int1\",\n",
    "        \"number \": \"+1 734 303 4456\"\n",
    "    },\n",
    "    \"email\":{\n",
    "        \"hide\":\"yes\"\n",
    "    }\n",
    "}'''\n",
    "info=json.loads(data)\n",
    "print('Name:',info[\"name\"])\n",
    "print('Hide:',info[\"email\"][\"hide\"])"
   ]
  },
  {
   "cell_type": "code",
   "execution_count": 32,
   "metadata": {},
   "outputs": [
    {
     "output_type": "stream",
     "name": "stdout",
     "text": "user count:  2\nName:  Rayan\nId 001\nAttribute 2\nName:  Brenden\nId 009\nAttribute 7\n"
    }
   ],
   "source": [
    "input='''\n",
    "[\n",
    "    {\n",
    "         \"id\" : \"001\",\n",
    "         \"x\"  : \"2\",\n",
    "       \"name\" : \"Rayan\" \n",
    "    },\n",
    "    {\n",
    "        \"id\" : \"009\",\n",
    "        \"x\"  : \"7\",\n",
    "        \"name\": \"Brenden\"\n",
    "    }\n",
    "]'''\n",
    "info=json.loads(input)\n",
    "print('user count: ',len(info))\n",
    "\n",
    "for item in info:\n",
    "    print('Name: ',item['name'])\n",
    "    print('Id',item['id'])\n",
    "    print('Attribute',item['x'])"
   ]
  },
  {
   "cell_type": "code",
   "execution_count": 33,
   "metadata": {},
   "outputs": [
    {
     "output_type": "error",
     "ename": "ModuleNotFoundError",
     "evalue": "No module named 'twurl'",
     "traceback": [
      "\u001b[1;31m---------------------------------------------------------------------------\u001b[0m",
      "\u001b[1;31mModuleNotFoundError\u001b[0m                       Traceback (most recent call last)",
      "\u001b[1;32m<ipython-input-33-55420d4a5d88>\u001b[0m in \u001b[0;36m<module>\u001b[1;34m\u001b[0m\n\u001b[1;32m----> 1\u001b[1;33m \u001b[1;32mfrom\u001b[0m \u001b[0mtwurl\u001b[0m \u001b[1;32mimport\u001b[0m \u001b[0maugment\u001b[0m\u001b[1;33m\u001b[0m\u001b[1;33m\u001b[0m\u001b[0m\n\u001b[0m",
      "\u001b[1;31mModuleNotFoundError\u001b[0m: No module named 'twurl'"
     ]
    }
   ],
   "source": [
    "from twurl import augment"
   ]
  },
  {
   "cell_type": "code",
   "execution_count": null,
   "metadata": {},
   "outputs": [],
   "source": []
  }
 ],
 "metadata": {
  "language_info": {
   "codemirror_mode": {
    "name": "ipython",
    "version": 3
   },
   "file_extension": ".py",
   "mimetype": "text/x-python",
   "name": "python",
   "nbconvert_exporter": "python",
   "pygments_lexer": "ipython3",
   "version": 3
  },
  "orig_nbformat": 2,
  "kernelspec": {
   "name": "python_defaultSpec_1599054596295",
   "display_name": "Python 3.7.4 64-bit ('base': conda)"
  }
 },
 "nbformat": 4,
 "nbformat_minor": 2
}